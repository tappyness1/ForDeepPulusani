{
 "cells": [
  {
   "cell_type": "markdown",
   "metadata": {},
   "source": [
    "## Imports and Load"
   ]
  },
  {
   "cell_type": "code",
   "execution_count": 1,
   "metadata": {
    "scrolled": false
   },
   "outputs": [],
   "source": [
    "import pandas as pd\n",
    "import seaborn as sns\n",
    "import matplotlib.pyplot as plt\n",
    "\n",
    "df1 = pd.read_csv('event_interview.csv')\n",
    "df2 = pd.read_csv('fighter_interview.csv')\n",
    "df3 = pd.read_csv('outcome_interview.csv')\n",
    "\n",
    "# print (df1.head())\n",
    "# print('')\n",
    "# print (df2.head())\n",
    "# print ('')\n",
    "# print (df3.head())"
   ]
  },
  {
   "cell_type": "markdown",
   "metadata": {},
   "source": [
    "## Merging Data and Concatenating "
   ]
  },
  {
   "cell_type": "code",
   "execution_count": 2,
   "metadata": {
    "scrolled": false
   },
   "outputs": [],
   "source": [
    "# merge first fighter\n",
    "fighter1df = df3[['fighter1_id']]\n",
    "fighter1df = fighter1df.merge(right = df2, left_on = 'fighter1_id', right_on = 'id', how = 'left')\n",
    "fighter1df = fighter1df[['name', 'nationality']]\n",
    "fighter1df.rename(index=str, columns={\"name\": \"fighter1_name\", \"nationality\": \"fighter1_nationality\"}, inplace = True)\n",
    "\n",
    "# merge second fighter \n",
    "fighter2df = df3[['fighter2_id']]\n",
    "fighter2df = fighter2df.merge(right = df2, left_on = 'fighter2_id', right_on = 'id', how = 'left')\n",
    "fighter2df = fighter2df[['name', 'nationality']]\n",
    "fighter2df.rename(index=str, columns={\"name\": \"fighter2_name\", \"nationality\": \"fighter2_nationality\"}, inplace = True)\n",
    "\n",
    "# merge event id\n",
    "eventdf = df3[['event_id']]\n",
    "eventdf = eventdf.merge(right = df1, left_on = 'event_id', right_on = 'id', how = 'left')\n",
    "eventdf = eventdf[['name']]\n",
    "eventdf.rename(index=str, columns={\"name\": \"event_name\"}, inplace = True)\n",
    "\n",
    "# join all dfs into one\n",
    "maindf = pd.concat([fighter1df, fighter2df, eventdf], axis=1)\n",
    "# print (maindf.head())\n",
    "\n",
    "maindf.to_csv('ResultDF.csv')\n"
   ]
  },
  {
   "cell_type": "markdown",
   "metadata": {},
   "source": [
    "## Plot Counts of Fighters by Nationality\n"
   ]
  },
  {
   "cell_type": "code",
   "execution_count": 4,
   "metadata": {
    "scrolled": true
   },
   "outputs": [
    {
     "data": {
      "image/png": "[encoded data removed]",
      "text/plain": [
       "<Figure size 1152x360 with 1 Axes>"
      ]
     },
     "metadata": {},
     "output_type": "display_data"
    }
   ],
   "source": [
    "# visualisation\n",
    "\n",
    "# put all fighters together, both fighter 1 and fighter 2. Same for nationality\n",
    "\n",
    "visualdf = pd.concat([fighter1df,fighter2df.rename(columns={'fighter2_name':'fighter1_name', 'fighter2_nationality':'fighter1_nationality'})], ignore_index=True, sort = False)\n",
    "\n",
    "# visualdf = visualdf['nationality'].value_counts().head(10)\n",
    "# print (visualdf)\n",
    "\n",
    "# Plot top ten nationalities \n",
    "plt.figure(figsize=(16, 5))\n",
    "ax = sns.barplot(x=visualdf['fighter1_nationality'].value_counts().head(10).index, y=visualdf['fighter1_nationality'].value_counts().head(10))\n",
    "y_max = visualdf['fighter1_nationality'].value_counts().max() \n",
    "ax.set_ylim([0, y_max + 1000])\n",
    "ax.set(xlabel='Nationality', ylabel='Counts')\n",
    "for p in ax.patches:\n",
    "    ax.text(p.get_x() + p.get_width()/2., p.get_height(), '%d' % int(p.get_height()), \n",
    "            fontsize=12, color='black', ha='center', va='bottom')\n"
   ]
  }
 ],
 "metadata": {
  "kernelspec": {
   "display_name": "Python 3",
   "language": "python",
   "name": "python3"
  },
  "language_info": {
   "codemirror_mode": {
    "name": "ipython",
    "version": 3
   },
   "file_extension": ".py",
   "mimetype": "text/x-python",
   "name": "python",
   "nbconvert_exporter": "python",
   "pygments_lexer": "ipython3",
   "version": "3.6.5"
  }
 },
 "nbformat": 4,
 "nbformat_minor": 2
}
